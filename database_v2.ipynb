{
 "cells": [
  {
   "cell_type": "code",
   "execution_count": 2,
   "metadata": {
    "scrolled": true
   },
   "outputs": [
    {
     "name": "stderr",
     "output_type": "stream",
     "text": [
      "Invalid requirement: '#下載instaloader套件'\n",
      "Traceback (most recent call last):\n",
      "  File \"C:\\Users\\loyuwen\\Anaconda3\\lib\\site-packages\\pip\\_vendor\\packaging\\requirements.py\", line 93, in __init__\n",
      "    req = REQUIREMENT.parseString(requirement_string)\n",
      "  File \"C:\\Users\\loyuwen\\Anaconda3\\lib\\site-packages\\pip\\_vendor\\pyparsing.py\", line 1654, in parseString\n",
      "    raise exc\n",
      "  File \"C:\\Users\\loyuwen\\Anaconda3\\lib\\site-packages\\pip\\_vendor\\pyparsing.py\", line 1644, in parseString\n",
      "    loc, tokens = self._parse( instring, 0 )\n",
      "  File \"C:\\Users\\loyuwen\\Anaconda3\\lib\\site-packages\\pip\\_vendor\\pyparsing.py\", line 1402, in _parseNoCache\n",
      "    loc,tokens = self.parseImpl( instring, preloc, doActions )\n",
      "  File \"C:\\Users\\loyuwen\\Anaconda3\\lib\\site-packages\\pip\\_vendor\\pyparsing.py\", line 3417, in parseImpl\n",
      "    loc, exprtokens = e._parse( instring, loc, doActions )\n",
      "  File \"C:\\Users\\loyuwen\\Anaconda3\\lib\\site-packages\\pip\\_vendor\\pyparsing.py\", line 1402, in _parseNoCache\n",
      "    loc,tokens = self.parseImpl( instring, preloc, doActions )\n",
      "  File \"C:\\Users\\loyuwen\\Anaconda3\\lib\\site-packages\\pip\\_vendor\\pyparsing.py\", line 3739, in parseImpl\n",
      "    return self.expr._parse( instring, loc, doActions, callPreParse=False )\n",
      "  File \"C:\\Users\\loyuwen\\Anaconda3\\lib\\site-packages\\pip\\_vendor\\pyparsing.py\", line 1402, in _parseNoCache\n",
      "    loc,tokens = self.parseImpl( instring, preloc, doActions )\n",
      "  File \"C:\\Users\\loyuwen\\Anaconda3\\lib\\site-packages\\pip\\_vendor\\pyparsing.py\", line 3400, in parseImpl\n",
      "    loc, resultlist = self.exprs[0]._parse( instring, loc, doActions, callPreParse=False )\n",
      "  File \"C:\\Users\\loyuwen\\Anaconda3\\lib\\site-packages\\pip\\_vendor\\pyparsing.py\", line 1406, in _parseNoCache\n",
      "    loc,tokens = self.parseImpl( instring, preloc, doActions )\n",
      "  File \"C:\\Users\\loyuwen\\Anaconda3\\lib\\site-packages\\pip\\_vendor\\pyparsing.py\", line 2711, in parseImpl\n",
      "    raise ParseException(instring, loc, self.errmsg, self)\n",
      "pip._vendor.pyparsing.ParseException: Expected W:(abcd...) (at char 0), (line:1, col:1)\n",
      "\n",
      "During handling of the above exception, another exception occurred:\n",
      "\n",
      "Traceback (most recent call last):\n",
      "  File \"C:\\Users\\loyuwen\\Anaconda3\\lib\\site-packages\\pip\\_internal\\req\\constructors.py\", line 253, in install_req_from_line\n",
      "    req = Requirement(req)\n",
      "  File \"C:\\Users\\loyuwen\\Anaconda3\\lib\\site-packages\\pip\\_vendor\\packaging\\requirements.py\", line 96, in __init__\n",
      "    requirement_string[e.loc:e.loc + 8], e.msg\n",
      "pip._vendor.packaging.requirements.InvalidRequirement: Parse error at \"'#下載insta'\": Expected W:(abcd...)\n",
      "\n"
     ]
    }
   ],
   "source": [
    "!pip install instaloader  #下載instaloader套件"
   ]
  },
  {
   "cell_type": "code",
   "execution_count": 1,
   "metadata": {},
   "outputs": [
    {
     "name": "stderr",
     "output_type": "stream",
     "text": [
      "C:\\Users\\loyuwen\\Anaconda3\\lib\\site-packages\\win_unicode_console\\__init__.py:31: RuntimeWarning: sys.stdin.encoding == 'cp950', whereas sys.stdout.encoding == 'UTF-8', readline hook consumer may assume they are the same\n",
      "  readline_hook.enable(use_pyreadline=use_pyreadline)\n"
     ]
    }
   ],
   "source": [
    "import instaloader    #import instaloader套件  \n",
    "import datetime\n",
    "import csv\n",
    "L = instaloader.Instaloader()"
   ]
  },
  {
   "cell_type": "code",
   "execution_count": 3,
   "metadata": {},
   "outputs": [],
   "source": [
    "#從txt檔中取出美妝帳戶的清單 做成清單\n",
    "with open('brand_ig_name.txt', encoding=\"UTF-8-sig\") as f:\n",
    "    examples=f.readlines()\n",
    "\n",
    "names=[]\n",
    "for item in examples:\n",
    "    name=item.strip().replace('@','')\n",
    "    names.append(name)"
   ]
  },
  {
   "cell_type": "code",
   "execution_count": 4,
   "metadata": {},
   "outputs": [],
   "source": [
    "with open('homepage.csv', 'a+', encoding='utf-8-sig', newline='') as csvFile:\n",
    "    csv.writer(csvFile).writerow(['name','post','post.owner_profile','post.owner_id','post.date','like_count','comments_count'])"
   ]
  },
  {
   "cell_type": "code",
   "execution_count": 5,
   "metadata": {},
   "outputs": [
    {
     "name": "stdout",
     "output_type": "stream",
     "text": [
      "hemecosmetics <generator object Profile.get_posts at 0x0000028152372ED0>\n",
      "hemecosmetics finish\n",
      "solone_taiwan <generator object Profile.get_posts at 0x0000028152372F48>\n",
      "solone_taiwan finish\n",
      "1028_taiwan <generator object Profile.get_posts at 0x0000028152372F48>\n",
      "1028_taiwan finish\n"
     ]
    }
   ],
   "source": [
    "#主頁發文\n",
    "for name in names:\n",
    "    try:\n",
    "        profile = instaloader.Profile.from_username(L.context,name) #取得帳戶的標號\n",
    "        print(name,profile.get_posts())    #取得這個帳戶的貼文\n",
    "        for post in profile.get_posts():\n",
    "            like_count=list(post.get_likes())  #計算每則post like的數量\n",
    "            comments_count = list(post.get_comments())   #計算每則post comment的數量\n",
    "            start = datetime.datetime(2019, 12, 7, 22, 22) #設開始時間\n",
    "            end = datetime.datetime(2019, 12, 9, 22, 22) #設截止時間\n",
    "            if post.date >= start and post.date <= end:\n",
    "                with open('homepage.csv', 'a+', encoding='utf-8-sig', newline='') as csvFile:\n",
    "                    csv.writer(csvFile).writerow([name,post,post.owner_profile,post.owner_id,post.date,len(like_count),len(comments_count)])                \n",
    "                #print(name,post,post.date,len(like_count),len(comments_count)) #print每則post的編號,like,comment的數量\n",
    "            else:\n",
    "                #with open('homepage.csv', 'a+', encoding='utf-8-sig', newline='') as csvFile:\n",
    "                    #csv.writer(csvFile).writerow([name,'no_update']) \n",
    "                print(name,'finish')\n",
    "                break\n",
    "    except Exception as e:\n",
    "        print(e)"
   ]
  },
  {
   "cell_type": "code",
   "execution_count": 6,
   "metadata": {},
   "outputs": [],
   "source": [
    "with open('taggedpage.csv', 'a+', encoding='utf-8-sig', newline='') as csvFile:\n",
    "    csv.writer(csvFile).writerow(['name','post','post.owner_profile','post.owner_id','post.date','like_count','comments_count'])"
   ]
  },
  {
   "cell_type": "code",
   "execution_count": null,
   "metadata": {},
   "outputs": [
    {
     "name": "stdout",
     "output_type": "stream",
     "text": [
      "hemecosmetics <generator object Profile.get_tagged_posts at 0x0000028152372F48>\n",
      "solone_taiwan <generator object Profile.get_tagged_posts at 0x0000028152372F48>\n"
     ]
    }
   ],
   "source": [
    "#tagged\n",
    "for name in names:\n",
    "    try:\n",
    "        profile = instaloader.Profile.from_username(L.context,name) #取得帳戶的標號\n",
    "        print(name,profile.get_tagged_posts())    #取得這個帳戶的貼文\n",
    "        for post in profile.get_tagged_posts():\n",
    "            like_count=list(post.get_likes())  #計算每則post like的數量\n",
    "            comments_count = list(post.get_comments())   #計算每則post comment的數量\n",
    "            start = datetime.datetime(2019, 12, 7, 22, 22) #設開啟時間\n",
    "            end = datetime.datetime(2019, 12, 9, 22, 22) #設截止時間\n",
    "            if post.date >= start and post.date <= end:\n",
    "                with open('taggedpage.csv', 'a+', encoding='utf-8-sig', newline='') as csvFile:\n",
    "                    csv.writer(csvFile).writerow([name,post,post.owner_profile,post.owner_id,post.date,len(like_count),len(comments_count)])                \n",
    "            else:\n",
    "                #with open('taggedpage.csv', 'a+', encoding='utf-8-sig', newline='') as csvFile:\n",
    "                    #csv.writer(csvFile).writerow([name,'no_update']) \n",
    "                print(name,'finish')\n",
    "                break\n",
    "    except Exception as e:\n",
    "        print(e)"
   ]
  }
 ],
 "metadata": {
  "kernelspec": {
   "display_name": "Python 3",
   "language": "python",
   "name": "python3"
  },
  "language_info": {
   "codemirror_mode": {
    "name": "ipython",
    "version": 3
   },
   "file_extension": ".py",
   "mimetype": "text/x-python",
   "name": "python",
   "nbconvert_exporter": "python",
   "pygments_lexer": "ipython3",
   "version": "3.7.1"
  }
 },
 "nbformat": 4,
 "nbformat_minor": 2
}
